{
 "cells": [
  {
   "cell_type": "code",
   "execution_count": 1,
   "metadata": {},
   "outputs": [],
   "source": [
    "# 1. Pre-processing of the dataset\n",
    "# 2. Use all Diagnostics techniques explained in the lecture\n",
    "# 3. Compare between the performance of ALL the following classifiers: KNN / Naive Bayes / Logistic Regression / Neural Networks"
   ]
  },
  {
   "cell_type": "code",
   "execution_count": 2,
   "metadata": {},
   "outputs": [],
   "source": [
    "import os\n",
    "import math\n",
    "import numpy as np\n",
    "import pandas as pd\n",
    "import tensorflow as tf\n",
    "from sklearn.metrics import accuracy_score\n",
    "from sklearn.naive_bayes import GaussianNB\n",
    "from sklearn.neighbors import KNeighborsClassifier\n",
    "from Classification_Project_DE_Module import DE_fn\n",
    "from sklearn.linear_model import LogisticRegression\n",
    "from sklearn.model_selection import train_test_split, cross_val_score"
   ]
  },
  {
   "cell_type": "code",
   "execution_count": 3,
   "metadata": {},
   "outputs": [],
   "source": [
    "if os.path.exists('./2018_Accidents_UK_Final.csv'):\n",
    "    x = np.nan\n",
    "else:\n",
    "    DE_fn()"
   ]
  },
  {
   "cell_type": "code",
   "execution_count": 4,
   "metadata": {},
   "outputs": [
    {
     "name": "stderr",
     "output_type": "stream",
     "text": [
      "C:\\Users\\ahmad\\AppData\\Local\\Temp\\ipykernel_1476\\2076121321.py:1: DtypeWarning: Columns (0,2) have mixed types. Specify dtype option on import or set low_memory=False.\n",
      "  df = pd.read_csv('./2018_Accidents_UK_Final.csv')\n"
     ]
    },
    {
     "data": {
      "text/plain": [
       "Index(['accident_index', 'accident_year', 'accident_reference',\n",
       "       'location_easting_osgr', 'location_northing_osgr', 'longitude',\n",
       "       'latitude', 'accident_severity', 'number_of_vehicles',\n",
       "       'number_of_casualties', 'date', 'time', 'first_road_number',\n",
       "       'speed_limit', 'second_road_class', 'second_road_number',\n",
       "       'lsoa_of_accident_location', 'dateTime', 'week_end', 'time_in_mins',\n",
       "       'police_force_0', 'police_force_1', 'police_force_2', 'police_force_3',\n",
       "       'police_force_4', 'police_force_5', 'day_of_week_0', 'day_of_week_1',\n",
       "       'day_of_week_2', 'local_authority_district_0',\n",
       "       'local_authority_district_1', 'local_authority_district_2',\n",
       "       'local_authority_district_3', 'local_authority_district_4',\n",
       "       'local_authority_district_5', 'local_authority_district_6',\n",
       "       'local_authority_district_7', 'local_authority_district_8',\n",
       "       'local_authority_ons_district_0', 'local_authority_ons_district_1',\n",
       "       'local_authority_ons_district_2', 'local_authority_ons_district_3',\n",
       "       'local_authority_ons_district_4', 'local_authority_ons_district_5',\n",
       "       'local_authority_ons_district_6', 'local_authority_ons_district_7',\n",
       "       'local_authority_ons_district_8', 'local_authority_highway_0',\n",
       "       'local_authority_highway_1', 'local_authority_highway_2',\n",
       "       'local_authority_highway_3', 'local_authority_highway_4',\n",
       "       'local_authority_highway_5', 'local_authority_highway_6',\n",
       "       'local_authority_highway_7', 'first_road_class_0', 'first_road_class_1',\n",
       "       'first_road_class_2', 'road_type_0', 'road_type_1', 'road_type_2',\n",
       "       'junction_detail_0', 'junction_detail_1', 'junction_detail_2',\n",
       "       'junction_detail_3', 'junction_control_0', 'junction_control_1',\n",
       "       'junction_control_2', 'pedestrian_crossing_human_control_0',\n",
       "       'pedestrian_crossing_human_control_1',\n",
       "       'pedestrian_crossing_physical_facilities_0',\n",
       "       'pedestrian_crossing_physical_facilities_1',\n",
       "       'pedestrian_crossing_physical_facilities_2', 'light_conditions_0',\n",
       "       'light_conditions_1', 'light_conditions_2', 'weather_conditions_0',\n",
       "       'weather_conditions_1', 'weather_conditions_2',\n",
       "       'road_surface_conditions_0', 'road_surface_conditions_1',\n",
       "       'did_police_officer_attend_scene_of_accident_0',\n",
       "       'did_police_officer_attend_scene_of_accident_1', 'trunk_road_flag_0',\n",
       "       'trunk_road_flag_1', 'week_number_0', 'week_number_1', 'week_number_2',\n",
       "       'week_number_3', 'week_number_4', 'week_number_5', 'time_discrete_0',\n",
       "       'time_discrete_1', 'time_discrete_2', 'special_conditions_at_site_None',\n",
       "       'special_conditions_at_site_Rare', 'carriageway_hazards_None',\n",
       "       'carriageway_hazards_Rare', 'urban_or_rural_area_Rural',\n",
       "       'urban_or_rural_area_Urban'],\n",
       "      dtype='object')"
      ]
     },
     "execution_count": 4,
     "metadata": {},
     "output_type": "execute_result"
    }
   ],
   "source": [
    "df = pd.read_csv('./2018_Accidents_UK_Final.csv')"
   ]
  },
  {
   "cell_type": "code",
   "execution_count": 5,
   "metadata": {},
   "outputs": [],
   "source": [
    "df_copy = df[['number_of_vehicles','number_of_casualties','day_of_week_0','day_of_week_1','day_of_week_2',\n",
    "        'longitude','latitude','first_road_class_0','first_road_class_1','first_road_class_2','road_type_0','road_type_1',\n",
    "        'road_type_2','junction_detail_0','junction_detail_1','junction_detail_2','junction_detail_3',\n",
    "        'junction_control_0','junction_control_1','junction_control_2','pedestrian_crossing_human_control_0',\n",
    "        'pedestrian_crossing_human_control_1','pedestrian_crossing_physical_facilities_0',\n",
    "        'pedestrian_crossing_physical_facilities_1','pedestrian_crossing_physical_facilities_2','light_conditions_0',\n",
    "        'light_conditions_1','light_conditions_2','weather_conditions_0','weather_conditions_1','weather_conditions_2',\n",
    "        'road_surface_conditions_0','road_surface_conditions_1','trunk_road_flag_0','trunk_road_flag_1',\n",
    "        'week_number_0', 'week_number_1', 'week_number_2','week_number_3', 'week_number_4',\n",
    "        'week_number_5','special_conditions_at_site_None','special_conditions_at_site_Rare',\n",
    "        'carriageway_hazards_None', 'carriageway_hazards_Rare','urban_or_rural_area_Rural',\n",
    "        'urban_or_rural_area_Urban','week_end', 'time_in_mins','time_discrete_0','time_discrete_1', 'time_discrete_2']]"
   ]
  },
  {
   "cell_type": "code",
   "execution_count": 6,
   "metadata": {},
   "outputs": [],
   "source": [
    "# We will write here the feature that will be feeded into the models\n",
    "X = df_copy\n",
    "y = df['accident_severity']"
   ]
  },
  {
   "cell_type": "code",
   "execution_count": 7,
   "metadata": {},
   "outputs": [
    {
     "name": "stdout",
     "output_type": "stream",
     "text": [
      "Cross-Validation Scores: [0.79940274 0.79940274 0.7994439  0.79939241 0.79939241]\n",
      "Mean CV Accuracy: 0.7994068399621201\n",
      "Accuracy: 0.7976685751946286\n"
     ]
    }
   ],
   "source": [
    "X_train, X_test, y_train, y_test = train_test_split(X, y, test_size=0.2, random_state=42)\n",
    "\n",
    "k = round(math.sqrt(len(df_copy)))\n",
    "knn = KNeighborsClassifier(n_neighbors=k)\n",
    "\n",
    "cv_scores = cross_val_score(knn, X_train, y_train, cv=5)\n",
    "print(\"Cross-Validation Scores:\", cv_scores)\n",
    "print(\"Mean CV Accuracy:\", cv_scores.mean())\n",
    "\n",
    "knn.fit(X_train, y_train)\n",
    "\n",
    "y_pred = knn.predict(X_test)\n",
    "\n",
    "accuracy = accuracy_score(y_test, y_pred)\n",
    "print(\"Accuracy:\", accuracy)"
   ]
  },
  {
   "cell_type": "code",
   "execution_count": 8,
   "metadata": {},
   "outputs": [
    {
     "name": "stdout",
     "output_type": "stream",
     "text": [
      "Accuracy: 0.4770770688305804\n"
     ]
    }
   ],
   "source": [
    "X_train, X_test, y_train, y_test = train_test_split(X, y, test_size=0.2, random_state=42)\n",
    "naive_bayes = GaussianNB()\n",
    "naive_bayes.fit(X_train, y_train)\n",
    "y_pred = naive_bayes.predict(X_test)\n",
    "accuracy = accuracy_score(y_test, y_pred)\n",
    "print(\"Accuracy:\", accuracy)"
   ]
  },
  {
   "cell_type": "code",
   "execution_count": 9,
   "metadata": {},
   "outputs": [
    {
     "name": "stdout",
     "output_type": "stream",
     "text": [
      "Accuracy: 0.7976685751946286\n"
     ]
    },
    {
     "name": "stderr",
     "output_type": "stream",
     "text": [
      "C:\\Users\\ahmad\\anaconda3\\lib\\site-packages\\sklearn\\linear_model\\_logistic.py:458: ConvergenceWarning: lbfgs failed to converge (status=1):\n",
      "STOP: TOTAL NO. of ITERATIONS REACHED LIMIT.\n",
      "\n",
      "Increase the number of iterations (max_iter) or scale the data as shown in:\n",
      "    https://scikit-learn.org/stable/modules/preprocessing.html\n",
      "Please also refer to the documentation for alternative solver options:\n",
      "    https://scikit-learn.org/stable/modules/linear_model.html#logistic-regression\n",
      "  n_iter_i = _check_optimize_result(\n"
     ]
    }
   ],
   "source": [
    "X_train, X_test, y_train, y_test = train_test_split(X, y, test_size=0.2, random_state=42)\n",
    "logreg = LogisticRegression()\n",
    "logreg.fit(X_train, y_train)\n",
    "y_pred = logreg.predict(X_test)\n",
    "accuracy = accuracy_score(y_test, y_pred)\n",
    "print(\"Accuracy:\", accuracy)"
   ]
  },
  {
   "cell_type": "code",
   "execution_count": 10,
   "metadata": {},
   "outputs": [
    {
     "name": "stdout",
     "output_type": "stream",
     "text": [
      "Epoch 1/30\n",
      "98/98 [==============================] - 1s 3ms/step - loss: 2.7808 - accuracy: 0.7083\n",
      "Epoch 2/30\n",
      "98/98 [==============================] - 0s 3ms/step - loss: 0.9665 - accuracy: 0.7012\n",
      "Epoch 3/30\n",
      "98/98 [==============================] - 0s 3ms/step - loss: 1.0495 - accuracy: 0.6985\n",
      "Epoch 4/30\n",
      "98/98 [==============================] - 0s 3ms/step - loss: 0.7847 - accuracy: 0.7426\n",
      "Epoch 5/30\n",
      "98/98 [==============================] - 0s 3ms/step - loss: 0.8189 - accuracy: 0.7533\n",
      "Epoch 6/30\n",
      "98/98 [==============================] - 0s 3ms/step - loss: 1.0283 - accuracy: 0.6997\n",
      "Epoch 7/30\n",
      "98/98 [==============================] - 0s 3ms/step - loss: 0.6281 - accuracy: 0.7783\n",
      "Epoch 8/30\n",
      "98/98 [==============================] - 0s 3ms/step - loss: 0.6281 - accuracy: 0.7866\n",
      "Epoch 9/30\n",
      "98/98 [==============================] - 0s 3ms/step - loss: 0.8303 - accuracy: 0.7459\n",
      "Epoch 10/30\n",
      "98/98 [==============================] - 0s 3ms/step - loss: 0.5746 - accuracy: 0.7918\n",
      "Epoch 11/30\n",
      "98/98 [==============================] - 0s 3ms/step - loss: 0.7487 - accuracy: 0.7635\n",
      "Epoch 12/30\n",
      "98/98 [==============================] - 0s 3ms/step - loss: 1.3205 - accuracy: 0.7045\n",
      "Epoch 13/30\n",
      "98/98 [==============================] - 0s 3ms/step - loss: 0.5877 - accuracy: 0.7875\n",
      "Epoch 14/30\n",
      "98/98 [==============================] - 0s 3ms/step - loss: 0.8533 - accuracy: 0.7418\n",
      "Epoch 15/30\n",
      "98/98 [==============================] - 0s 3ms/step - loss: 1.5856 - accuracy: 0.6966\n",
      "Epoch 16/30\n",
      "98/98 [==============================] - 0s 3ms/step - loss: 0.5931 - accuracy: 0.7847\n",
      "Epoch 17/30\n",
      "98/98 [==============================] - 0s 3ms/step - loss: 0.5740 - accuracy: 0.7891\n",
      "Epoch 18/30\n",
      "98/98 [==============================] - 0s 3ms/step - loss: 0.5568 - accuracy: 0.7982\n",
      "Epoch 19/30\n",
      "98/98 [==============================] - 0s 3ms/step - loss: 0.5511 - accuracy: 0.7989\n",
      "Epoch 20/30\n",
      "98/98 [==============================] - 0s 3ms/step - loss: 0.6286 - accuracy: 0.7730\n",
      "Epoch 21/30\n",
      "98/98 [==============================] - 0s 3ms/step - loss: 0.8861 - accuracy: 0.7539\n",
      "Epoch 22/30\n",
      "98/98 [==============================] - 0s 3ms/step - loss: 0.5419 - accuracy: 0.8000\n",
      "Epoch 23/30\n",
      "98/98 [==============================] - 0s 3ms/step - loss: 0.6757 - accuracy: 0.7680\n",
      "Epoch 24/30\n",
      "98/98 [==============================] - 0s 3ms/step - loss: 0.6317 - accuracy: 0.7744\n",
      "Epoch 25/30\n",
      "98/98 [==============================] - 0s 3ms/step - loss: 0.8498 - accuracy: 0.7353\n",
      "Epoch 26/30\n",
      "98/98 [==============================] - 0s 3ms/step - loss: 0.5487 - accuracy: 0.7992\n",
      "Epoch 27/30\n",
      "98/98 [==============================] - 0s 3ms/step - loss: 0.5487 - accuracy: 0.7992\n",
      "Epoch 28/30\n",
      "98/98 [==============================] - 0s 3ms/step - loss: 0.5571 - accuracy: 0.7984\n",
      "Epoch 29/30\n",
      "98/98 [==============================] - 0s 3ms/step - loss: 0.5639 - accuracy: 0.7963\n",
      "Epoch 30/30\n",
      "98/98 [==============================] - 0s 3ms/step - loss: 0.9500 - accuracy: 0.7041\n",
      "759/759 [==============================] - 1s 1ms/step - loss: 0.5629 - accuracy: 0.7973\n",
      "Accuracy: 0.7972566485404968\n"
     ]
    }
   ],
   "source": [
    "X_train, X_test, y_train, y_test = train_test_split(X, y, test_size=0.2, random_state=42)\n",
    "\n",
    "input_dim = X_train.shape[1]\n",
    "num_classes = len(set(y_train))\n",
    "\n",
    "model = tf.keras.models.Sequential([\n",
    "    tf.keras.layers.Dense(128, activation='relu', input_shape=(input_dim,)),\n",
    "    tf.keras.layers.Dense(128, activation='relu'),\n",
    "    tf.keras.layers.Dense(num_classes, activation='softmax')\n",
    "])\n",
    "\n",
    "model.compile(optimizer='adam',\n",
    "              loss='sparse_categorical_crossentropy',\n",
    "              metrics=['accuracy'])\n",
    "\n",
    "model.fit(X_train, y_train, epochs=30, batch_size=1000, verbose=1)\n",
    "\n",
    "_, accuracy = model.evaluate(X_test, y_test, verbose=1)\n",
    "print(\"Accuracy:\", accuracy)"
   ]
  }
 ],
 "metadata": {
  "kernelspec": {
   "display_name": "Python 3 (ipykernel)",
   "language": "python",
   "name": "python3"
  },
  "language_info": {
   "codemirror_mode": {
    "name": "ipython",
    "version": 3
   },
   "file_extension": ".py",
   "mimetype": "text/x-python",
   "name": "python",
   "nbconvert_exporter": "python",
   "pygments_lexer": "ipython3",
   "version": "3.10.9"
  }
 },
 "nbformat": 4,
 "nbformat_minor": 2
}
