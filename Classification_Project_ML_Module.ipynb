{
 "cells": [
  {
   "cell_type": "code",
   "execution_count": 1,
   "metadata": {},
   "outputs": [],
   "source": [
    "import os\n",
    "import math\n",
    "import numpy as np\n",
    "import pandas as pd\n",
    "import tensorflow as tf\n",
    "from sklearn.utils import shuffle\n",
    "from sklearn.metrics import accuracy_score\n",
    "from sklearn.naive_bayes import GaussianNB\n",
    "from tensorflow.keras.optimizers import Adam\n",
    "from sklearn.neighbors import KNeighborsClassifier\n",
    "from Classification_Project_DE_Module import DE_fn\n",
    "from sklearn.linear_model import LogisticRegression\n",
    "from sklearn.model_selection import train_test_split, cross_val_score"
   ]
  },
  {
   "cell_type": "code",
   "execution_count": 2,
   "metadata": {},
   "outputs": [],
   "source": [
    "if os.path.exists('./2018_Accidents_UK_Final.csv'):\n",
    "    x = np.nan\n",
    "else:\n",
    "    DE_fn()"
   ]
  },
  {
   "cell_type": "code",
   "execution_count": 3,
   "metadata": {},
   "outputs": [],
   "source": [
    "df = pd.read_csv('./2018_Accidents_UK_Final.csv', low_memory=False)"
   ]
  },
  {
   "cell_type": "code",
   "execution_count": 4,
   "metadata": {},
   "outputs": [],
   "source": [
    "shuffled_df = shuffle(df)"
   ]
  },
  {
   "cell_type": "code",
   "execution_count": 5,
   "metadata": {},
   "outputs": [],
   "source": [
    "df_copy = shuffled_df[['number_of_vehicles','number_of_casualties','day_of_week_0','day_of_week_1','day_of_week_2',\n",
    "        'first_road_class_0','first_road_class_1','first_road_class_2','road_type_0','road_type_1',\n",
    "        'road_type_2','junction_detail_0','junction_detail_1','junction_detail_2','junction_detail_3',\n",
    "        'junction_control_0','junction_control_1','junction_control_2','pedestrian_crossing_human_control_0',\n",
    "        'pedestrian_crossing_human_control_1','pedestrian_crossing_physical_facilities_0',\n",
    "        'pedestrian_crossing_physical_facilities_1','pedestrian_crossing_physical_facilities_2','light_conditions_0',\n",
    "        'light_conditions_1','light_conditions_2','weather_conditions_0','weather_conditions_1','weather_conditions_2',\n",
    "        'road_surface_conditions_0','road_surface_conditions_1','trunk_road_flag_0','trunk_road_flag_1',\n",
    "        'week_number_0', 'week_number_1', 'week_number_2','week_number_3', 'week_number_4',\n",
    "        'week_number_5','special_conditions_at_site_None','special_conditions_at_site_Rare',\n",
    "        'carriageway_hazards_None', 'carriageway_hazards_Rare','urban_or_rural_area_Rural',\n",
    "        'urban_or_rural_area_Urban','week_end', 'time_in_mins']]"
   ]
  },
  {
   "cell_type": "code",
   "execution_count": 6,
   "metadata": {},
   "outputs": [],
   "source": [
    "# We will write here the feature that will be feeded into the models\n",
    "X = df_copy\n",
    "y = shuffled_df['accident_severity']"
   ]
  },
  {
   "cell_type": "code",
   "execution_count": 7,
   "metadata": {},
   "outputs": [
    {
     "name": "stdout",
     "output_type": "stream",
     "text": [
      "Cross-Validation Scores: [0.79919679 0.79919679 0.79919679 0.79919679 0.79919679 0.79909381\n",
      " 0.79909381 0.79917611 0.79917611 0.79917611]\n",
      "Mean CV Accuracy: 0.7991699879345208\n",
      "Accuracy: 0.7986159739671294\n"
     ]
    }
   ],
   "source": [
    "X_train, X_test, y_train, y_test = train_test_split(X, y, test_size=0.2)\n",
    "\n",
    "k = round(math.sqrt(len(df_copy)))\n",
    "knn = KNeighborsClassifier(n_neighbors=k)\n",
    "\n",
    "cv_scores = cross_val_score(knn, X_train, y_train, cv=10)\n",
    "print(\"Cross-Validation Scores:\", cv_scores)\n",
    "print(\"Mean CV Accuracy:\", cv_scores.mean())\n",
    "\n",
    "knn.fit(X_train, y_train)\n",
    "\n",
    "y_pred = knn.predict(X_test)\n",
    "\n",
    "accuracy = accuracy_score(y_test, y_pred)\n",
    "print(\"Accuracy:\", accuracy)"
   ]
  },
  {
   "cell_type": "code",
   "execution_count": 8,
   "metadata": {},
   "outputs": [
    {
     "name": "stdout",
     "output_type": "stream",
     "text": [
      "Accuracy: 0.4652551797998105\n"
     ]
    }
   ],
   "source": [
    "X_train, X_test, y_train, y_test = train_test_split(X, y, test_size=0.2)\n",
    "naive_bayes = GaussianNB()\n",
    "naive_bayes.fit(X_train, y_train)\n",
    "y_pred = naive_bayes.predict(X_test)\n",
    "accuracy = accuracy_score(y_test, y_pred)\n",
    "print(\"Accuracy:\", accuracy)"
   ]
  },
  {
   "cell_type": "code",
   "execution_count": 9,
   "metadata": {},
   "outputs": [
    {
     "name": "stdout",
     "output_type": "stream",
     "text": [
      "Accuracy: 0.7991102689788689\n"
     ]
    }
   ],
   "source": [
    "X_train, X_test, y_train, y_test = train_test_split(X, y, test_size=0.2)\n",
    "logreg = LogisticRegression(max_iter=1000)\n",
    "logreg.fit(X_train, y_train)\n",
    "y_pred = logreg.predict(X_test)\n",
    "accuracy = accuracy_score(y_test, y_pred)\n",
    "print(\"Accuracy:\", accuracy)"
   ]
  },
  {
   "cell_type": "code",
   "execution_count": 10,
   "metadata": {},
   "outputs": [
    {
     "name": "stdout",
     "output_type": "stream",
     "text": [
      "Epoch 1/15\n",
      "98/98 [==============================] - 1s 4ms/step - loss: 0.6374 - accuracy: 0.7949\n",
      "Epoch 2/15\n",
      "98/98 [==============================] - 0s 4ms/step - loss: 0.5451 - accuracy: 0.7999\n",
      "Epoch 3/15\n",
      "98/98 [==============================] - 0s 4ms/step - loss: 0.5398 - accuracy: 0.7999\n",
      "Epoch 4/15\n",
      "98/98 [==============================] - 0s 4ms/step - loss: 0.5365 - accuracy: 0.7999\n",
      "Epoch 5/15\n",
      "98/98 [==============================] - 0s 4ms/step - loss: 0.5344 - accuracy: 0.7999\n",
      "Epoch 6/15\n",
      "98/98 [==============================] - 0s 4ms/step - loss: 0.5328 - accuracy: 0.8000\n",
      "Epoch 7/15\n",
      "98/98 [==============================] - 0s 4ms/step - loss: 0.5316 - accuracy: 0.8000\n",
      "Epoch 8/15\n",
      "98/98 [==============================] - 0s 4ms/step - loss: 0.5306 - accuracy: 0.8000\n",
      "Epoch 9/15\n",
      "98/98 [==============================] - 0s 4ms/step - loss: 0.5301 - accuracy: 0.8000\n",
      "Epoch 10/15\n",
      "98/98 [==============================] - 0s 4ms/step - loss: 0.5292 - accuracy: 0.8000\n",
      "Epoch 11/15\n",
      "98/98 [==============================] - 0s 4ms/step - loss: 0.5287 - accuracy: 0.8001\n",
      "Epoch 12/15\n",
      "98/98 [==============================] - 0s 4ms/step - loss: 0.5282 - accuracy: 0.8001\n",
      "Epoch 13/15\n",
      "98/98 [==============================] - 0s 4ms/step - loss: 0.5276 - accuracy: 0.8001\n",
      "Epoch 14/15\n",
      "98/98 [==============================] - 0s 4ms/step - loss: 0.5273 - accuracy: 0.8001\n",
      "Epoch 15/15\n",
      "98/98 [==============================] - 0s 4ms/step - loss: 0.5269 - accuracy: 0.8001\n",
      "759/759 [==============================] - 1s 1ms/step - loss: 0.5348 - accuracy: 0.7958\n",
      "Accuracy: 0.7958149909973145\n"
     ]
    }
   ],
   "source": [
    "X_train, X_test, y_train, y_test = train_test_split(X, y, test_size=0.2)\n",
    "\n",
    "input_dim = X_train.shape[1]\n",
    "num_classes = len(set(y_train))\n",
    "\n",
    "model = tf.keras.models.Sequential([\n",
    "    tf.keras.layers.Dense(128, activation='relu', input_shape=(input_dim,)),\n",
    "    tf.keras.layers.Dense(128, activation='relu'),\n",
    "    tf.keras.layers.Dense(128, activation='relu'),\n",
    "    tf.keras.layers.Dense(num_classes, activation='softmax')\n",
    "])\n",
    "\n",
    "learning_rate = 0.0001\n",
    "\n",
    "model.compile(optimizer=Adam(learning_rate=learning_rate),\n",
    "              loss='sparse_categorical_crossentropy',\n",
    "              metrics=['accuracy'])\n",
    "\n",
    "model.fit(X_train, y_train, epochs=15, batch_size=1000, verbose=1)\n",
    "\n",
    "_, accuracy = model.evaluate(X_test, y_test, verbose=1)\n",
    "print(\"Accuracy:\", accuracy)"
   ]
  }
 ],
 "metadata": {
  "kernelspec": {
   "display_name": "Python 3 (ipykernel)",
   "language": "python",
   "name": "python3"
  },
  "language_info": {
   "codemirror_mode": {
    "name": "ipython",
    "version": 3
   },
   "file_extension": ".py",
   "mimetype": "text/x-python",
   "name": "python",
   "nbconvert_exporter": "python",
   "pygments_lexer": "ipython3",
   "version": "3.10.9"
  }
 },
 "nbformat": 4,
 "nbformat_minor": 2
}
